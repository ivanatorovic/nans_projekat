{
 "cells": [
  {
   "cell_type": "code",
   "execution_count": 7,
   "id": "7b3cfa49-9a94-4d95-85bd-1d234e14c49d",
   "metadata": {},
   "outputs": [
    {
     "name": "stdout",
     "output_type": "stream",
     "text": [
      "The autoreload extension is already loaded. To reload it, use:\n",
      "  %reload_ext autoreload\n"
     ]
    }
   ],
   "source": [
    "import pandas as pd\n",
    "import numpy as np\n",
    "from sklearn.model_selection import train_test_split, GridSearchCV, cross_val_predict\n",
    "from sklearn.linear_model import LinearRegression, Ridge\n",
    "from sklearn.ensemble import RandomForestRegressor\n",
    "from sklearn.pipeline import Pipeline, make_pipeline\n",
    "from sklearn.compose import ColumnTransformer\n",
    "from sklearn.preprocessing import PolynomialFeatures, StandardScaler, MinMaxScaler\n",
    "from sklearn.metrics import mean_absolute_error\n",
    "#import matplotlib.pyplot as plt\n",
    "from sklearn.model_selection import GroupKFold, cross_val_score\n",
    "from sklearn.compose import ColumnTransformer\n",
    "from sklearn.tree import DecisionTreeRegressor\n",
    "from sklearn.neural_network import MLPRegressor\n",
    "#import pyodbc\n",
    "from sklearn.linear_model import LinearRegression, Ridge, Lasso, ElasticNet\n",
    "from sklearn.tree import DecisionTreeRegressor\n",
    "from sklearn.ensemble import RandomForestRegressor, GradientBoostingRegressor, AdaBoostRegressor\n",
    "from sklearn.svm import SVR\n",
    "from sklearn.neighbors import KNeighborsRegressor\n",
    "from sklearn.kernel_approximation import RBFSampler\n",
    "import sys\n",
    "#import funkcije as f\n",
    "from IPython.display import display, Markdown\n",
    "#import seaborn as sns\n",
    "from sklearn.impute import SimpleImputer\n",
    "%load_ext autoreload\n",
    "%autoreload 2"
   ]
  },
  {
   "cell_type": "code",
   "execution_count": 8,
   "id": "8ab28525-20b6-468f-8b69-ef2f71e2a93d",
   "metadata": {},
   "outputs": [
    {
     "name": "stdout",
     "output_type": "stream",
     "text": [
      "   HenhouseId        Date  AvgPixelCount  AvgBboxWidth  AvgBboxHeight  \\\n",
      "0         153  2024-05-23     251.546826    155.739795     157.261169   \n",
      "1         153  2024-05-24     287.958928    165.706255     169.429606   \n",
      "2         153  2024-05-25     318.004964    174.462789     179.525922   \n",
      "3         153  2024-05-26     349.519252    185.071027     187.459743   \n",
      "4         153  2024-05-27     393.534412    197.503473     197.920834   \n",
      "5         153  2024-05-28     428.508134    207.025527     206.094734   \n",
      "6         153  2024-05-29     462.056831    215.546985     214.037009   \n",
      "7         153  2024-05-30     509.581315    228.427108     222.527150   \n",
      "8         153  2024-05-31     553.637971    238.497947     232.244736   \n",
      "9         153  2024-06-01     585.624469    245.377165     239.394344   \n",
      "\n",
      "   NumberOfDaysFromStart  PreviousWeight  AverageWeight  \n",
      "0                      0            37.0           42.0  \n",
      "1                      1            42.0           57.0  \n",
      "2                      2            57.0           69.0  \n",
      "3                      3            69.0           81.0  \n",
      "4                      4            81.0          106.0  \n",
      "5                      5           106.0          131.0  \n",
      "6                      6           131.0          166.0  \n",
      "7                      7           166.0          196.0  \n",
      "8                      8           196.0          232.0  \n",
      "9                      9           232.0          274.0  \n"
     ]
    }
   ],
   "source": [
    "gradiskatrain = pd.read_csv('../podaci/df_gradiska_train_inter.csv')\n",
    "gradiskatest = pd.read_csv('../podaci/df_gradiska_test_inter.csv')\n",
    "\n",
    "\n",
    "#gradiskatrain = gradiskatrain.dropna()\n",
    "#gradiskatest = gradiskatest.dropna()\n",
    "\n",
    "print(gradiskatrain.head(10))\n",
    "\n",
    "\n",
    "preprocess = Pipeline([\n",
    " \n",
    "    ('poly', PolynomialFeatures(degree=2)),\n",
    "    ('min_max', MinMaxScaler())\n",
    "])\n",
    "\n",
    "\n",
    "training_columns = ['AvgPixelCount','NumberOfDaysFromStart', 'PreviousWeight']\n",
    "\n",
    "\n",
    "X_train = gradiskatrain[training_columns]\n",
    "y_train = gradiskatrain['AverageWeight']\n",
    "X_test = gradiskatest[training_columns]\n",
    "y_test = gradiskatest['AverageWeight']\n",
    "\n",
    "\n",
    "X_train_transformed = preprocess.fit_transform(X_train)\n",
    "X_test_transformed = preprocess.transform(X_test)"
   ]
  },
  {
   "cell_type": "code",
   "execution_count": 15,
   "id": "babe2b32-d182-48f5-832d-96278fac5302",
   "metadata": {},
   "outputs": [],
   "source": [
    "import mlflow\n",
    "from mlflow.models import infer_signature"
   ]
  },
  {
   "cell_type": "code",
   "execution_count": 19,
   "id": "81d9daa7-9678-447f-a594-5d0cbcf4a6d7",
   "metadata": {},
   "outputs": [
    {
     "data": {
      "text/plain": [
       "<Popen: returncode: None args: ['mlflow', 'ui', '--host', '0.0.0.0', '--port...>"
      ]
     },
     "execution_count": 19,
     "metadata": {},
     "output_type": "execute_result"
    }
   ],
   "source": [
    "import subprocess\n",
    "\n",
    "subprocess.Popen(['mlflow','ui','--host','0.0.0.0','--port','5000'])\n"
   ]
  },
  {
   "cell_type": "code",
   "execution_count": 17,
   "id": "dc2f1638-326f-4a40-ae81-e2cf0b2df090",
   "metadata": {},
   "outputs": [],
   "source": [
    "models_and_params = [\n",
    "    (LinearRegression(), {\n",
    "        'fit_intercept': [True, False]\n",
    "    }),\n",
    "\n",
    "   \n",
    "    (Ridge(), {\n",
    "        'alpha': [0.1, 1.0, 10.0],\n",
    "        'solver': ['auto', 'svd', 'cholesky', 'lsqr'],\n",
    "        'fit_intercept': [True, False]\n",
    "    }),\n",
    "\n",
    "   \n",
    "    (Lasso(), {\n",
    "        'alpha': [0.1, 1.0, 10.0],\n",
    "        'max_iter': [1000, 2000, 3000],\n",
    "        'fit_intercept': [True, False]\n",
    "    }),\n",
    "\n",
    "    \n",
    "    (ElasticNet(), {\n",
    "        'alpha': [0.1, 1.0, 10.0],\n",
    "        'l1_ratio': [0.2, 0.5, 0.8],\n",
    "        'max_iter': [1000, 2000, 3000],\n",
    "        'fit_intercept': [True, False]\n",
    "    }),\n",
    "\n",
    "    \n",
    "    \n",
    "    (DecisionTreeRegressor(), {\n",
    "        'criterion': ['squared_error', 'friedman_mse', 'absolute_error', 'poisson'],\n",
    "        'max_depth': [None, 5, 10, 15],\n",
    "        'min_samples_split': [2, 5, 10],\n",
    "        'min_samples_leaf': [1, 5, 10]\n",
    "    }),\n",
    "\n",
    "    \n",
    "    (RandomForestRegressor(), {\n",
    "        'n_estimators': [50, 100, 150],\n",
    "        'max_depth': [None, 10, 20],\n",
    "        'min_samples_split': [2, 5, 10],\n",
    "        'min_samples_leaf': [1, 5, 10]\n",
    "    }),\n",
    "\n",
    "  \n",
    "\n",
    "   \n",
    "    (KNeighborsRegressor(), {\n",
    "        'n_neighbors': [3, 5, 7, 9],\n",
    "        'weights': ['uniform', 'distance'],\n",
    "        'algorithm': ['auto', 'ball_tree', 'kd_tree', 'brute']\n",
    "    }),\n",
    "\n",
    "        \n",
    "    (AdaBoostRegressor(), {\n",
    "        'n_estimators': [50, 100, 200],\n",
    "        'learning_rate': [0.1, 0.05, 0.02],\n",
    "        'loss': ['linear', 'square', 'exponential']\n",
    "    }),\n",
    "\n",
    "    \n",
    "    (GradientBoostingRegressor(), {\n",
    "        'learning_rate': [0.1, 0.05, 0.02],\n",
    "        'n_estimators': [50, 100, 150],\n",
    "        'max_depth': [3, 5, 7, 10],\n",
    "        'min_samples_split': [3, 5, 10],\n",
    "        'min_samples_leaf': [2, 5, 10],\n",
    "    })\n",
    "]\n",
    "\n",
    "\n"
   ]
  },
  {
   "cell_type": "code",
   "execution_count": 20,
   "id": "7341942a-d705-4126-b11a-3626bcb0ce57",
   "metadata": {},
   "outputs": [
    {
     "name": "stdout",
     "output_type": "stream",
     "text": [
      "\n",
      "Trening modela: LinearRegression\n",
      "Najbolji parametri za LinearRegression: {'fit_intercept': False}\n",
      "MAE na test skupu: 18.32745399838676\n",
      "-24.81891650717713\n",
      "\n",
      "Trening modela: Ridge\n",
      "Najbolji parametri za Ridge: {'alpha': 0.1, 'fit_intercept': True, 'solver': 'auto'}\n",
      "MAE na test skupu: 45.12722555455027\n",
      "-62.13338322133261\n",
      "\n",
      "Trening modela: Lasso\n",
      "Najbolji parametri za Lasso: {'alpha': 0.1, 'fit_intercept': False, 'max_iter': 2000}\n",
      "MAE na test skupu: 25.299516656061847\n",
      "-47.45418287701008\n",
      "\n",
      "Trening modela: ElasticNet\n",
      "Najbolji parametri za ElasticNet: {'alpha': 0.1, 'fit_intercept': False, 'l1_ratio': 0.8, 'max_iter': 1000}\n",
      "MAE na test skupu: 58.17389284788314\n",
      "-78.62940260382054\n",
      "\n",
      "Trening modela: DecisionTreeRegressor\n",
      "Najbolji parametri za DecisionTreeRegressor: {'criterion': 'absolute_error', 'max_depth': 10, 'min_samples_leaf': 1, 'min_samples_split': 2}\n",
      "MAE na test skupu: 30.57706743147453\n",
      "-54.64970560158186\n",
      "\n",
      "Trening modela: RandomForestRegressor\n",
      "Najbolji parametri za RandomForestRegressor: {'max_depth': 10, 'min_samples_leaf': 1, 'min_samples_split': 5, 'n_estimators': 50}\n",
      "MAE na test skupu: 27.705290526482656\n",
      "-54.43982833848821\n",
      "\n",
      "Trening modela: KNeighborsRegressor\n",
      "Najbolji parametri za KNeighborsRegressor: {'algorithm': 'brute', 'n_neighbors': 3, 'weights': 'distance'}\n",
      "MAE na test skupu: 31.56692368882428\n",
      "-52.051151927287755\n",
      "\n",
      "Trening modela: AdaBoostRegressor\n",
      "Najbolji parametri za AdaBoostRegressor: {'learning_rate': 0.1, 'loss': 'square', 'n_estimators': 200}\n",
      "MAE na test skupu: 43.13957395175334\n",
      "-59.036430035466026\n",
      "\n",
      "Trening modela: GradientBoostingRegressor\n",
      "Najbolji parametri za GradientBoostingRegressor: {'learning_rate': 0.1, 'max_depth': 5, 'min_samples_leaf': 2, 'min_samples_split': 3, 'n_estimators': 50}\n",
      "MAE na test skupu: 24.397274980822566\n",
      "-51.89180900642727\n"
     ]
    }
   ],
   "source": [
    "for model, parameters in models_and_params:\n",
    "    print(f\"\\nTrening modela: {model.__class__.__name__}\")\n",
    "\n",
    "   \n",
    "    grid_search = GridSearchCV(estimator=model, param_grid=parameters, n_jobs=-1, scoring='neg_mean_absolute_error')\n",
    "    grid_search.fit(X_train_transformed, y_train)\n",
    "\n",
    "    \n",
    "    print(f\"Najbolji parametri za {model.__class__.__name__}: {grid_search.best_params_}\")\n",
    "\n",
    "   \n",
    "    y_pred = grid_search.predict(X_test_transformed)\n",
    "\n",
    "   \n",
    "    mae = mean_absolute_error(y_test, y_pred)\n",
    "    print(f\"MAE na test skupu: {mae}\")\n",
    "    print(grid_search.best_score_)"
   ]
  },
  {
   "cell_type": "code",
   "execution_count": 22,
   "id": "731fdbc2-b325-4f57-8853-c09efbdd4926",
   "metadata": {},
   "outputs": [
    {
     "name": "stderr",
     "output_type": "stream",
     "text": [
      "2025/07/30 21:55:49 WARNING mlflow.models.model: `artifact_path` is deprecated. Please use `name` instead.\n"
     ]
    },
    {
     "name": "stdout",
     "output_type": "stream",
     "text": [
      "\n",
      "Trening modela: LinearRegression\n",
      "Najbolji parametri za LinearRegression: {'fit_intercept': False}\n",
      "MAE na test skupu: 18.32745399838676\n",
      "Metrics {'Mean absolute error': 18.32745399838676}\n"
     ]
    },
    {
     "name": "stderr",
     "output_type": "stream",
     "text": [
      "Registered model 'LinearRegression_gradiska_stand_3_min_max' already exists. Creating a new version of this model...\n",
      "Created version '2' of model 'LinearRegression_gradiska_stand_3_min_max'.\n"
     ]
    },
    {
     "name": "stdout",
     "output_type": "stream",
     "text": [
      "\n",
      "Trening modela: Ridge\n",
      "Najbolji parametri za Ridge: {'alpha': 0.1, 'fit_intercept': True, 'solver': 'auto'}\n",
      "MAE na test skupu: 45.12722555455027\n",
      "Metrics {'Mean absolute error': 45.12722555455027}\n"
     ]
    },
    {
     "name": "stderr",
     "output_type": "stream",
     "text": [
      "2025/07/30 21:55:52 WARNING mlflow.models.model: `artifact_path` is deprecated. Please use `name` instead.\n",
      "Successfully registered model 'Ridge_gradiska_stand_3_min_max'.\n",
      "Created version '1' of model 'Ridge_gradiska_stand_3_min_max'.\n",
      "2025/07/30 21:55:55 WARNING mlflow.models.model: `artifact_path` is deprecated. Please use `name` instead.\n"
     ]
    },
    {
     "name": "stdout",
     "output_type": "stream",
     "text": [
      "\n",
      "Trening modela: Lasso\n",
      "Najbolji parametri za Lasso: {'alpha': 0.1, 'fit_intercept': False, 'max_iter': 2000}\n",
      "MAE na test skupu: 25.299516656061847\n",
      "Metrics {'Mean absolute error': 25.299516656061847}\n"
     ]
    },
    {
     "name": "stderr",
     "output_type": "stream",
     "text": [
      "Successfully registered model 'Lasso_gradiska_stand_3_min_max'.\n",
      "Created version '1' of model 'Lasso_gradiska_stand_3_min_max'.\n"
     ]
    },
    {
     "name": "stdout",
     "output_type": "stream",
     "text": [
      "\n",
      "Trening modela: ElasticNet\n",
      "Najbolji parametri za ElasticNet: {'alpha': 0.1, 'fit_intercept': False, 'l1_ratio': 0.8, 'max_iter': 1000}\n",
      "MAE na test skupu: 58.17389284788314\n",
      "Metrics {'Mean absolute error': 58.17389284788314}\n"
     ]
    },
    {
     "name": "stderr",
     "output_type": "stream",
     "text": [
      "2025/07/30 21:55:58 WARNING mlflow.models.model: `artifact_path` is deprecated. Please use `name` instead.\n",
      "Successfully registered model 'ElasticNet_gradiska_stand_3_min_max'.\n",
      "Created version '1' of model 'ElasticNet_gradiska_stand_3_min_max'.\n"
     ]
    },
    {
     "name": "stdout",
     "output_type": "stream",
     "text": [
      "\n",
      "Trening modela: DecisionTreeRegressor\n"
     ]
    },
    {
     "name": "stderr",
     "output_type": "stream",
     "text": [
      "2025/07/30 21:56:02 WARNING mlflow.models.model: `artifact_path` is deprecated. Please use `name` instead.\n"
     ]
    },
    {
     "name": "stdout",
     "output_type": "stream",
     "text": [
      "Najbolji parametri za DecisionTreeRegressor: {'criterion': 'friedman_mse', 'max_depth': 15, 'min_samples_leaf': 1, 'min_samples_split': 2}\n",
      "MAE na test skupu: 24.261840330133836\n",
      "Metrics {'Mean absolute error': 24.261840330133836}\n"
     ]
    },
    {
     "name": "stderr",
     "output_type": "stream",
     "text": [
      "Successfully registered model 'DecisionTreeRegressor_gradiska_stand_3_min_max'.\n",
      "Created version '1' of model 'DecisionTreeRegressor_gradiska_stand_3_min_max'.\n"
     ]
    },
    {
     "name": "stdout",
     "output_type": "stream",
     "text": [
      "\n",
      "Trening modela: RandomForestRegressor\n"
     ]
    },
    {
     "name": "stderr",
     "output_type": "stream",
     "text": [
      "2025/07/30 21:56:15 WARNING mlflow.models.model: `artifact_path` is deprecated. Please use `name` instead.\n"
     ]
    },
    {
     "name": "stdout",
     "output_type": "stream",
     "text": [
      "Najbolji parametri za RandomForestRegressor: {'max_depth': 20, 'min_samples_leaf': 1, 'min_samples_split': 2, 'n_estimators': 50}\n",
      "MAE na test skupu: 25.96598086492843\n",
      "Metrics {'Mean absolute error': 25.96598086492843}\n"
     ]
    },
    {
     "name": "stderr",
     "output_type": "stream",
     "text": [
      "Successfully registered model 'RandomForestRegressor_gradiska_stand_3_min_max'.\n",
      "Created version '1' of model 'RandomForestRegressor_gradiska_stand_3_min_max'.\n"
     ]
    },
    {
     "name": "stdout",
     "output_type": "stream",
     "text": [
      "\n",
      "Trening modela: KNeighborsRegressor\n",
      "Najbolji parametri za KNeighborsRegressor: {'algorithm': 'brute', 'n_neighbors': 3, 'weights': 'distance'}\n",
      "MAE na test skupu: 31.56692368882428\n",
      "Metrics {'Mean absolute error': 31.56692368882428}\n"
     ]
    },
    {
     "name": "stderr",
     "output_type": "stream",
     "text": [
      "2025/07/30 21:56:18 WARNING mlflow.models.model: `artifact_path` is deprecated. Please use `name` instead.\n",
      "Successfully registered model 'KNeighborsRegressor_gradiska_stand_3_min_max'.\n",
      "Created version '1' of model 'KNeighborsRegressor_gradiska_stand_3_min_max'.\n"
     ]
    },
    {
     "name": "stdout",
     "output_type": "stream",
     "text": [
      "\n",
      "Trening modela: AdaBoostRegressor\n",
      "Najbolji parametri za AdaBoostRegressor: {'learning_rate': 0.1, 'loss': 'exponential', 'n_estimators': 200}\n",
      "MAE na test skupu: 43.504688493914514\n",
      "Metrics {'Mean absolute error': 43.504688493914514}\n"
     ]
    },
    {
     "name": "stderr",
     "output_type": "stream",
     "text": [
      "2025/07/30 21:56:27 WARNING mlflow.models.model: `artifact_path` is deprecated. Please use `name` instead.\n",
      "Successfully registered model 'AdaBoostRegressor_gradiska_stand_3_min_max'.\n",
      "Created version '1' of model 'AdaBoostRegressor_gradiska_stand_3_min_max'.\n"
     ]
    },
    {
     "name": "stdout",
     "output_type": "stream",
     "text": [
      "\n",
      "Trening modela: GradientBoostingRegressor\n"
     ]
    },
    {
     "name": "stderr",
     "output_type": "stream",
     "text": [
      "2025/07/30 21:57:04 WARNING mlflow.models.model: `artifact_path` is deprecated. Please use `name` instead.\n"
     ]
    },
    {
     "name": "stdout",
     "output_type": "stream",
     "text": [
      "Najbolji parametri za GradientBoostingRegressor: {'learning_rate': 0.1, 'max_depth': 5, 'min_samples_leaf': 2, 'min_samples_split': 5, 'n_estimators': 100}\n",
      "MAE na test skupu: 23.719964476926055\n",
      "Metrics {'Mean absolute error': 23.719964476926055}\n"
     ]
    },
    {
     "name": "stderr",
     "output_type": "stream",
     "text": [
      "Successfully registered model 'GradientBoostingRegressor_gradiska_stand_3_min_max'.\n",
      "Created version '1' of model 'GradientBoostingRegressor_gradiska_stand_3_min_max'.\n"
     ]
    }
   ],
   "source": [
    "exp = mlflow.set_experiment(experiment_name=\"gradiska_train_test\")\n",
    "for model, parameters in models_and_params:\n",
    "\n",
    "    model_name = type(model).__name__\n",
    "    print(f\"\\nTrening modela: {model.__class__.__name__}\")\n",
    "\n",
    "   \n",
    "    grid_search = GridSearchCV(estimator=model, param_grid=parameters, n_jobs=-1, scoring='neg_mean_absolute_error')\n",
    "    grid_search.fit(X_train_transformed, y_train)\n",
    "\n",
    "    \n",
    "    print(f\"Najbolji parametri za {model.__class__.__name__}: {grid_search.best_params_}\")\n",
    "\n",
    "   \n",
    "    y_pred = grid_search.predict(X_test_transformed)\n",
    "\n",
    "   \n",
    "    mae = mean_absolute_error(y_test, y_pred)\n",
    "    print(f\"MAE na test skupu: {mae}\")\n",
    "\n",
    "\n",
    "    metrics = {\n",
    "       \n",
    "        'Mean absolute error': mae,\n",
    "        \n",
    "    }\n",
    "    print('Metrics', metrics)\n",
    "\n",
    "\n",
    "\n",
    "    with mlflow.start_run(experiment_id=exp.experiment_id):\n",
    "        # Log the hyperparameters\n",
    "        mlflow.log_param('model_type', model_name)\n",
    "        mlflow.log_param('columns_used', \", \".join(training_columns))\n",
    "        mlflow.log_params(grid_search.best_params_)\n",
    "        mlflow.log_metrics(metrics)\n",
    "        mlflow.log_param(\"preprocessing\", [step[0] for step in preprocess.steps])\n",
    "\n",
    "        tags = {\n",
    "            \"task\": \"Pilici\",\n",
    "            \"model\":model_name,\n",
    "            \"preprocessing\":[step[0] for step in preprocess.steps],\n",
    "            \"data_used\": \"Gradiska\"\n",
    "        }\n",
    "        # Set a tag that we can use to remind ourselves what this run was for\n",
    "        mlflow.set_tags(tags)\n",
    "\n",
    "        # Infer the model signature\n",
    "        signature = infer_signature(X_train_transformed, grid_search.predict(X_train_transformed))\n",
    "\n",
    "        # Log the model\n",
    "        model_info = mlflow.sklearn.log_model(\n",
    "            sk_model=grid_search.best_estimator_,\n",
    "            artifact_path=\"flow_modeli\",\n",
    "            signature=signature,\n",
    "            input_example=X_train_transformed,\n",
    "            registered_model_name=f\"{type(model).__name__}_gradiska_stand_3_min_max\",\n",
    "        )"
   ]
  },
  {
   "cell_type": "code",
   "execution_count": 111,
   "id": "da2495c5-aac3-4eb4-9370-685757adc5f5",
   "metadata": {},
   "outputs": [
    {
     "data": {
      "text/plain": [
       "array([    0.        ,  2410.40079273,  -179.23664919,   958.64191949,\n",
       "       -9809.32923592,  4311.79233262, 11308.06848991,  -351.69097024,\n",
       "       -4013.27490909, -2869.1762314 ])"
      ]
     },
     "execution_count": 111,
     "metadata": {},
     "output_type": "execute_result"
    }
   ],
   "source": [
    "grid_search.best_estimator_.coef_"
   ]
  },
  {
   "cell_type": "code",
   "execution_count": 2,
   "id": "f3464348-695e-4bf1-9a17-6b2606fd74f2",
   "metadata": {},
   "outputs": [
    {
     "name": "stdout",
     "output_type": "stream",
     "text": [
      "Collecting pandas\n",
      "  Downloading pandas-2.2.3-cp313-cp313-win_amd64.whl.metadata (19 kB)\n",
      "Collecting numpy>=1.26.0 (from pandas)\n",
      "  Downloading numpy-2.2.4-cp313-cp313-win_amd64.whl.metadata (60 kB)\n",
      "Requirement already satisfied: python-dateutil>=2.8.2 in c:\\users\\ivana\\appdata\\local\\programs\\python\\python313\\lib\\site-packages (from pandas) (2.9.0.post0)\n",
      "Collecting pytz>=2020.1 (from pandas)\n",
      "  Downloading pytz-2025.2-py2.py3-none-any.whl.metadata (22 kB)\n",
      "Collecting tzdata>=2022.7 (from pandas)\n",
      "  Downloading tzdata-2025.2-py2.py3-none-any.whl.metadata (1.4 kB)\n",
      "Requirement already satisfied: six>=1.5 in c:\\users\\ivana\\appdata\\local\\programs\\python\\python313\\lib\\site-packages (from python-dateutil>=2.8.2->pandas) (1.17.0)\n",
      "Downloading pandas-2.2.3-cp313-cp313-win_amd64.whl (11.5 MB)\n",
      "   ---------------------------------------- 0.0/11.5 MB ? eta -:--:--\n",
      "   - -------------------------------------- 0.5/11.5 MB 6.1 MB/s eta 0:00:02\n",
      "   ----- ---------------------------------- 1.6/11.5 MB 4.5 MB/s eta 0:00:03\n",
      "   -------- ------------------------------- 2.4/11.5 MB 4.6 MB/s eta 0:00:02\n",
      "   ---------- ----------------------------- 2.9/11.5 MB 4.4 MB/s eta 0:00:02\n",
      "   ------------- -------------------------- 3.9/11.5 MB 4.4 MB/s eta 0:00:02\n",
      "   ------------------- -------------------- 5.5/11.5 MB 4.7 MB/s eta 0:00:02\n",
      "   ------------------------ --------------- 7.1/11.5 MB 5.1 MB/s eta 0:00:01\n",
      "   ------------------------------ --------- 8.7/11.5 MB 5.4 MB/s eta 0:00:01\n",
      "   ----------------------------------- ---- 10.2/11.5 MB 5.6 MB/s eta 0:00:01\n",
      "   ---------------------------------------- 11.5/11.5 MB 5.7 MB/s eta 0:00:00\n",
      "Downloading numpy-2.2.4-cp313-cp313-win_amd64.whl (12.6 MB)\n",
      "   ---------------------------------------- 0.0/12.6 MB ? eta -:--:--\n",
      "   ---- ----------------------------------- 1.6/12.6 MB 8.3 MB/s eta 0:00:02\n",
      "   --------- ------------------------------ 3.1/12.6 MB 7.9 MB/s eta 0:00:02\n",
      "   -------------- ------------------------- 4.7/12.6 MB 7.8 MB/s eta 0:00:02\n",
      "   ------------------- -------------------- 6.3/12.6 MB 7.6 MB/s eta 0:00:01\n",
      "   ------------------------- -------------- 8.1/12.6 MB 7.9 MB/s eta 0:00:01\n",
      "   ----------------------------- ---------- 9.2/12.6 MB 7.8 MB/s eta 0:00:01\n",
      "   ------------------------------ --------- 9.7/12.6 MB 6.7 MB/s eta 0:00:01\n",
      "   --------------------------------- ------ 10.5/12.6 MB 6.3 MB/s eta 0:00:01\n",
      "   ------------------------------------ --- 11.5/12.6 MB 6.1 MB/s eta 0:00:01\n",
      "   ---------------------------------------  12.6/12.6 MB 6.0 MB/s eta 0:00:01\n",
      "   ---------------------------------------- 12.6/12.6 MB 5.9 MB/s eta 0:00:00\n",
      "Downloading pytz-2025.2-py2.py3-none-any.whl (509 kB)\n",
      "Downloading tzdata-2025.2-py2.py3-none-any.whl (347 kB)\n",
      "Installing collected packages: pytz, tzdata, numpy, pandas\n",
      "Successfully installed numpy-2.2.4 pandas-2.2.3 pytz-2025.2 tzdata-2025.2\n"
     ]
    },
    {
     "name": "stderr",
     "output_type": "stream",
     "text": [
      "\n",
      "[notice] A new release of pip is available: 24.3.1 -> 25.0.1\n",
      "[notice] To update, run: python.exe -m pip install --upgrade pip\n"
     ]
    }
   ],
   "source": [
    "!pip install pandas\n"
   ]
  },
  {
   "cell_type": "code",
   "execution_count": 5,
   "id": "e7895113-f3b6-43da-aceb-3135cef6e043",
   "metadata": {
    "scrolled": true
   },
   "outputs": [
    {
     "name": "stdout",
     "output_type": "stream",
     "text": [
      "Collecting scikit-learn\n",
      "  Using cached scikit_learn-1.6.1-cp313-cp313-win_amd64.whl.metadata (15 kB)\n",
      "Requirement already satisfied: numpy>=1.19.5 in c:\\users\\ivana\\appdata\\local\\programs\\python\\python313\\lib\\site-packages (from scikit-learn) (2.2.4)\n",
      "Requirement already satisfied: scipy>=1.6.0 in c:\\users\\ivana\\appdata\\local\\programs\\python\\python313\\lib\\site-packages (from scikit-learn) (1.15.2)\n",
      "Requirement already satisfied: joblib>=1.2.0 in c:\\users\\ivana\\appdata\\local\\programs\\python\\python313\\lib\\site-packages (from scikit-learn) (1.4.2)\n",
      "Requirement already satisfied: threadpoolctl>=3.1.0 in c:\\users\\ivana\\appdata\\local\\programs\\python\\python313\\lib\\site-packages (from scikit-learn) (3.6.0)\n",
      "Using cached scikit_learn-1.6.1-cp313-cp313-win_amd64.whl (11.1 MB)\n",
      "Installing collected packages: scikit-learn\n",
      "Successfully installed scikit-learn-1.6.1\n"
     ]
    },
    {
     "name": "stderr",
     "output_type": "stream",
     "text": [
      "\n",
      "[notice] A new release of pip is available: 24.3.1 -> 25.0.1\n",
      "[notice] To update, run: python.exe -m pip install --upgrade pip\n"
     ]
    }
   ],
   "source": [
    "!pip install scikit-learn\n"
   ]
  },
  {
   "cell_type": "code",
   "execution_count": null,
   "id": "306dd555-ee99-4390-bc95-9a7aa2322053",
   "metadata": {},
   "outputs": [],
   "source": []
  }
 ],
 "metadata": {
  "kernelspec": {
   "display_name": "Python 3 (ipykernel)",
   "language": "python",
   "name": "python3"
  },
  "language_info": {
   "codemirror_mode": {
    "name": "ipython",
    "version": 3
   },
   "file_extension": ".py",
   "mimetype": "text/x-python",
   "name": "python",
   "nbconvert_exporter": "python",
   "pygments_lexer": "ipython3",
   "version": "3.10.11"
  }
 },
 "nbformat": 4,
 "nbformat_minor": 5
}
