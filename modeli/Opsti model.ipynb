{
 "cells": [
  {
   "cell_type": "code",
   "execution_count": 1,
   "id": "01ad413e-5042-4848-86a5-234d118b5830",
   "metadata": {},
   "outputs": [],
   "source": [
    "import pandas as pd\n",
    "import numpy as np\n",
    "from sklearn.model_selection import train_test_split, GridSearchCV, cross_val_predict\n",
    "from sklearn.linear_model import LinearRegression, Ridge\n",
    "from sklearn.ensemble import RandomForestRegressor\n",
    "from sklearn.pipeline import Pipeline, make_pipeline\n",
    "from sklearn.compose import ColumnTransformer\n",
    "from sklearn.preprocessing import PolynomialFeatures, StandardScaler, MinMaxScaler\n",
    "from sklearn.metrics import mean_absolute_error\n",
    "import matplotlib.pyplot as plt\n",
    "from sklearn.model_selection import GroupKFold, cross_val_score\n",
    "from sklearn.compose import ColumnTransformer\n",
    "from sklearn.tree import DecisionTreeRegressor\n",
    "from sklearn.neural_network import MLPRegressor\n",
    "from sklearn.linear_model import LinearRegression, Ridge, Lasso, ElasticNet\n",
    "from sklearn.tree import DecisionTreeRegressor\n",
    "from sklearn.ensemble import RandomForestRegressor, GradientBoostingRegressor, AdaBoostRegressor\n",
    "from sklearn.svm import SVR\n",
    "from sklearn.neighbors import KNeighborsRegressor\n",
    "from sklearn.kernel_approximation import RBFSampler\n",
    "import sys\n",
    "from IPython.display import display, Markdown\n",
    "import seaborn as sns\n",
    "%load_ext autoreload\n",
    "%autoreload 2\n"
   ]
  },
  {
   "cell_type": "code",
   "execution_count": null,
   "id": "54cc60b5-cda9-422e-bb42-a47225110273",
   "metadata": {},
   "outputs": [],
   "source": []
  },
  {
   "cell_type": "code",
   "execution_count": 26,
   "id": "1208bd6f-8039-4cff-adea-db3db382c423",
   "metadata": {},
   "outputs": [],
   "source": [
    "preprocess = Pipeline([\n",
    "    ('poly',PolynomialFeatures(degree=2)),\n",
    "    ('min_max', MinMaxScaler())\n",
    "])\n",
    "\n",
    "putanje = ['../podaci/df_kanada.csv', '../podaci/df_gradiska_train_inter.csv', '../podaci/df_portugal.csv']\n",
    "training_columns = ['AvgPixelCount', 'NumberOfDaysFromStart', 'PreviousWeight']"
   ]
  },
  {
   "cell_type": "code",
   "execution_count": 27,
   "id": "4a2ecd7e-62bc-440d-9d4a-5b68c5fdaf01",
   "metadata": {},
   "outputs": [],
   "source": [
    "dfs = []\n",
    "Xs = []\n",
    "for putanja in putanje:\n",
    "    dfs.append(pd.read_csv(putanja))\n",
    "    Xs.append(preprocess.fit_transform(dfs[-1][training_columns]))"
   ]
  },
  {
   "cell_type": "code",
   "execution_count": 28,
   "id": "9949cb3a-28b2-41ee-91e6-4cdf93ed5dc1",
   "metadata": {},
   "outputs": [],
   "source": [
    "df = pd.concat(dfs)"
   ]
  },
  {
   "cell_type": "code",
   "execution_count": 33,
   "id": "c8e78142-b64e-4889-b98e-c1a9acf7410c",
   "metadata": {},
   "outputs": [
    {
     "name": "stdout",
     "output_type": "stream",
     "text": [
      "   HenhouseId       Date  AvgPixelCount  AvgBboxWidth  AvgBboxHeight  \\\n",
      "0         131   6/3/2023     344.461932    184.536740     179.683936   \n",
      "1         131   6/4/2023     463.062580    197.471418     191.473504   \n",
      "2         131   6/5/2023     430.997551    203.855550     196.402763   \n",
      "3         131   6/6/2023     446.578510    211.449437     202.574249   \n",
      "4         131   6/7/2023     477.485082    217.930284     211.826148   \n",
      "5         131   6/8/2023     530.142223    227.983510     219.693399   \n",
      "6         131   6/9/2023     576.723363    235.817352     229.819631   \n",
      "7         131  6/10/2023     595.501761    242.945277     237.033505   \n",
      "8         131  6/11/2023     692.874699    255.601084     251.259510   \n",
      "9         131  6/12/2023     704.145396    261.617489     258.712156   \n",
      "\n",
      "   NumberOfDaysFromStart  PreviousWeight  AverageWeight  \n",
      "0                      2            50.0           70.0  \n",
      "1                      3            70.0           70.0  \n",
      "2                      4            70.0           90.0  \n",
      "3                      5            90.0          110.0  \n",
      "4                      6           110.0          110.0  \n",
      "5                      7           110.0          150.0  \n",
      "6                      8           150.0          190.0  \n",
      "7                      9           190.0          210.0  \n",
      "8                     10           210.0          230.0  \n",
      "9                     11           230.0          290.0  \n",
      "(515, 3)\n",
      "(515, 10)\n"
     ]
    }
   ],
   "source": [
    "train = df\n",
    "gradiskatest = pd.read_csv('../podaci/df_gradiska_test_inter.csv')\n",
    "\n",
    "\n",
    "print(train.head(10))\n",
    "\n",
    "X_train = train[training_columns]\n",
    "y_train = train['AverageWeight']\n",
    "X_test = gradiskatest[training_columns]\n",
    "y_test = gradiskatest['AverageWeight']\n",
    "\n",
    "print(X_train.shape)  # Ovo bi trebalo da ispiše (broj_uzoraka, 3)\n",
    "\n",
    "preprocess.fit(X_train)\n",
    "joblib.dump(preprocess, 'JB/preprocess_pipeline.joblib')\n",
    "\n",
    "# 5️⃣ Transformiši podatke za treniranje i testiranje\n",
    "X_train_transformed = preprocess.transform(X_train)\n",
    "X_test_transformed = preprocess.transform(X_test)\n",
    "print(X_train_transformed.shape)  # Ovo bi trebalo da ispiše (broj_uzoraka, 3)\n"
   ]
  },
  {
   "cell_type": "code",
   "execution_count": 30,
   "id": "83e26c8f-f521-401e-a268-bb65c6fd1b06",
   "metadata": {},
   "outputs": [],
   "source": [
    "models_and_params = [\n",
    "    (LinearRegression(), {\n",
    "        'fit_intercept': [True, False]\n",
    "    }),\n",
    "\n",
    "   \n",
    "    (Ridge(), {\n",
    "        'alpha': [0.1, 1.0, 10.0],\n",
    "        'solver': ['auto', 'svd', 'cholesky', 'lsqr'],\n",
    "        'fit_intercept': [True, False]\n",
    "    }),\n",
    "\n",
    "   \n",
    "    (Lasso(), {\n",
    "        'alpha': [0.1, 1.0, 10.0],\n",
    "        'max_iter': [1000, 2000, 3000],\n",
    "        'fit_intercept': [True, False]\n",
    "    }),\n",
    "\n",
    "    \n",
    "    (ElasticNet(), {\n",
    "        'alpha': [0.1, 1.0, 10.0],\n",
    "        'l1_ratio': [0.2, 0.5, 0.8],\n",
    "        'max_iter': [1000, 2000, 3000],\n",
    "        'fit_intercept': [True, False]\n",
    "    }),\n",
    "\n",
    "    \n",
    "    (DecisionTreeRegressor(), {\n",
    "        'criterion': ['squared_error', 'friedman_mse', 'absolute_error', 'poisson'],\n",
    "        'max_depth': [None, 5, 10, 15],\n",
    "        'min_samples_split': [2, 5, 10],\n",
    "        'min_samples_leaf': [1, 5, 10]\n",
    "    }),\n",
    "\n",
    "    \n",
    "    (RandomForestRegressor(), {\n",
    "        'n_estimators': [50, 100, 150],\n",
    "        'max_depth': [None, 10, 20],\n",
    "        'min_samples_split': [2, 5, 10],\n",
    "        'min_samples_leaf': [1, 5, 10]\n",
    "    }),\n",
    "\n",
    "  \n",
    "\n",
    "   \n",
    "    (KNeighborsRegressor(), {\n",
    "        'n_neighbors': [3, 5, 7, 9],\n",
    "        'weights': ['uniform', 'distance'],\n",
    "        'algorithm': ['auto', 'ball_tree', 'kd_tree', 'brute']\n",
    "    }),\n",
    "\n",
    "        \n",
    "    (AdaBoostRegressor(), {\n",
    "        'n_estimators': [50, 100, 200],\n",
    "        'learning_rate': [0.1, 0.05, 0.02],\n",
    "        'loss': ['linear', 'square', 'exponential']\n",
    "    }),\n",
    "\n",
    "    \n",
    "    (GradientBoostingRegressor(), {\n",
    "        'learning_rate': [0.1, 0.05, 0.02],\n",
    "        'n_estimators': [50, 100, 150],\n",
    "        'max_depth': [3, 5, 7, 10],\n",
    "        'min_samples_split': [3, 5, 10],\n",
    "        'min_samples_leaf': [2, 5, 10],\n",
    "    })\n",
    "]\n",
    "\n",
    "\n"
   ]
  },
  {
   "cell_type": "code",
   "execution_count": 31,
   "id": "3c2e6f5b-4ca5-4228-b3ce-08636dbb8a87",
   "metadata": {},
   "outputs": [
    {
     "name": "stdout",
     "output_type": "stream",
     "text": [
      "\n",
      "Trening modela: LinearRegression\n",
      "Najbolji parametri za LinearRegression: {'fit_intercept': True}\n",
      "MAE na test skupu: 20.58923094911362\n",
      "-26.385781295849245\n",
      "\n",
      "Trening modela: Ridge\n",
      "Najbolji parametri za Ridge: {'alpha': 0.1, 'fit_intercept': False, 'solver': 'svd'}\n",
      "MAE na test skupu: 29.053734050810174\n",
      "-44.07105173937356\n",
      "\n",
      "Trening modela: Lasso\n"
     ]
    },
    {
     "name": "stderr",
     "output_type": "stream",
     "text": [
      "C:\\Users\\Bata0\\AppData\\Local\\Programs\\Python\\Python310\\lib\\site-packages\\sklearn\\linear_model\\_coordinate_descent.py:695: ConvergenceWarning: Objective did not converge. You might want to increase the number of iterations, check the scale of the features or consider increasing regularisation. Duality gap: 5.980e+04, tolerance: 2.653e+04\n",
      "  model = cd_fast.enet_coordinate_descent(\n"
     ]
    },
    {
     "name": "stdout",
     "output_type": "stream",
     "text": [
      "Najbolji parametri za Lasso: {'alpha': 0.1, 'fit_intercept': True, 'max_iter': 1000}\n",
      "MAE na test skupu: 24.06528738761119\n",
      "-34.737686870170464\n",
      "\n",
      "Trening modela: ElasticNet\n",
      "Najbolji parametri za ElasticNet: {'alpha': 0.1, 'fit_intercept': False, 'l1_ratio': 0.8, 'max_iter': 1000}\n",
      "MAE na test skupu: 53.51408281030019\n",
      "-67.06586447413105\n",
      "\n",
      "Trening modela: DecisionTreeRegressor\n",
      "Najbolji parametri za DecisionTreeRegressor: {'criterion': 'absolute_error', 'max_depth': None, 'min_samples_leaf': 1, 'min_samples_split': 10}\n",
      "MAE na test skupu: 22.261902897893705\n",
      "-28.923549855644932\n",
      "\n",
      "Trening modela: RandomForestRegressor\n",
      "Najbolji parametri za RandomForestRegressor: {'max_depth': 20, 'min_samples_leaf': 1, 'min_samples_split': 2, 'n_estimators': 100}\n",
      "MAE na test skupu: 16.169715938028673\n",
      "-29.072888409982745\n",
      "\n",
      "Trening modela: KNeighborsRegressor\n",
      "Najbolji parametri za KNeighborsRegressor: {'algorithm': 'brute', 'n_neighbors': 5, 'weights': 'distance'}\n",
      "MAE na test skupu: 23.556529373868855\n",
      "-35.57056099072868\n",
      "\n",
      "Trening modela: AdaBoostRegressor\n",
      "Najbolji parametri za AdaBoostRegressor: {'learning_rate': 0.1, 'loss': 'square', 'n_estimators': 200}\n",
      "MAE na test skupu: 41.25441867483637\n",
      "-45.30557686670615\n",
      "\n",
      "Trening modela: GradientBoostingRegressor\n",
      "Najbolji parametri za GradientBoostingRegressor: {'learning_rate': 0.1, 'max_depth': 7, 'min_samples_leaf': 5, 'min_samples_split': 3, 'n_estimators': 150}\n",
      "MAE na test skupu: 16.509806692358225\n",
      "-28.504392579935256\n"
     ]
    }
   ],
   "source": [
    "for model, parameters in models_and_params:\n",
    "    print(f\"\\nTrening modela: {model.__class__.__name__}\")\n",
    "\n",
    "   \n",
    "    grid_search = GridSearchCV(estimator=model, param_grid=parameters, n_jobs=-1, scoring='neg_mean_absolute_error')\n",
    "    grid_search.fit(X_train_transformed, y_train)\n",
    "\n",
    "    \n",
    "    print(f\"Najbolji parametri za {model.__class__.__name__}: {grid_search.best_params_}\")\n",
    "\n",
    "   \n",
    "    y_pred = grid_search.predict(X_test_transformed)\n",
    "\n",
    "   \n",
    "    mae = mean_absolute_error(y_test, y_pred)\n",
    "    print(f\"MAE na test skupu: {mae}\")\n",
    "    print(grid_search.best_score_)"
   ]
  },
  {
   "cell_type": "code",
   "execution_count": 34,
   "id": "7d2a2882-3ca8-4abd-9bbc-f1f468a0f0a3",
   "metadata": {},
   "outputs": [
    {
     "data": {
      "text/plain": [
       "['JB/rf_scaler_prev_weight.joblib']"
      ]
     },
     "execution_count": 34,
     "metadata": {},
     "output_type": "execute_result"
    }
   ],
   "source": [
    "import joblib\n",
    "\n",
    "joblib.dump(grid_search, 'JB/rf_scaler_prev_weight.joblib')"
   ]
  },
  {
   "cell_type": "code",
   "execution_count": 13,
   "id": "710b3a34-8644-4c25-a7a2-f4fdc2200f82",
   "metadata": {},
   "outputs": [
    {
     "data": {
      "text/plain": [
       "10"
      ]
     },
     "execution_count": 13,
     "metadata": {},
     "output_type": "execute_result"
    }
   ],
   "source": [
    "grid_search.best_estimator_.n_features_in_\n"
   ]
  },
  {
   "cell_type": "code",
   "execution_count": 14,
   "id": "61405d1b-b03e-4a28-8677-213718ad65a2",
   "metadata": {},
   "outputs": [
    {
     "ename": "AttributeError",
     "evalue": "'GradientBoostingRegressor' object has no attribute 'feature_names_in_'",
     "output_type": "error",
     "traceback": [
      "\u001b[1;31m---------------------------------------------------------------------------\u001b[0m",
      "\u001b[1;31mAttributeError\u001b[0m                            Traceback (most recent call last)",
      "Cell \u001b[1;32mIn[14], line 1\u001b[0m\n\u001b[1;32m----> 1\u001b[0m \u001b[43mgrid_search\u001b[49m\u001b[38;5;241;43m.\u001b[39;49m\u001b[43mbest_estimator_\u001b[49m\u001b[38;5;241;43m.\u001b[39;49m\u001b[43mfeature_names_in_\u001b[49m\n",
      "\u001b[1;31mAttributeError\u001b[0m: 'GradientBoostingRegressor' object has no attribute 'feature_names_in_'"
     ]
    }
   ],
   "source": [
    "grid_search.best_estimator_.feature_names_in_\n"
   ]
  },
  {
   "cell_type": "code",
   "execution_count": 15,
   "id": "fd724a94-8f98-4e15-bf96-e3de9e69aad2",
   "metadata": {},
   "outputs": [
    {
     "name": "stdout",
     "output_type": "stream",
     "text": [
      "Index(['AvgPixelCount', 'NumberOfDaysFromStart', 'PreviousWeight'], dtype='object')\n"
     ]
    }
   ],
   "source": [
    "print(X_train.columns)\n"
   ]
  },
  {
   "cell_type": "code",
   "execution_count": 16,
   "id": "154565ef-aa1e-4f2b-8c8b-f97bb24ccef9",
   "metadata": {},
   "outputs": [
    {
     "name": "stdout",
     "output_type": "stream",
     "text": [
      "10\n"
     ]
    }
   ],
   "source": [
    "print(grid_search.best_estimator_.n_features_in_)\n"
   ]
  },
  {
   "cell_type": "code",
   "execution_count": null,
   "id": "863072b0-c90b-4812-8432-bf993a0c750d",
   "metadata": {},
   "outputs": [],
   "source": []
  }
 ],
 "metadata": {
  "kernelspec": {
   "display_name": "Python 3 (ipykernel)",
   "language": "python",
   "name": "python3"
  },
  "language_info": {
   "codemirror_mode": {
    "name": "ipython",
    "version": 3
   },
   "file_extension": ".py",
   "mimetype": "text/x-python",
   "name": "python",
   "nbconvert_exporter": "python",
   "pygments_lexer": "ipython3",
   "version": "3.10.11"
  }
 },
 "nbformat": 4,
 "nbformat_minor": 5
}
