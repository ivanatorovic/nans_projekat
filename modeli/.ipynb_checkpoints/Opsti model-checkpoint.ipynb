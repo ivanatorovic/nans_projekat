{
 "cells": [
  {
   "cell_type": "code",
   "execution_count": 1,
   "id": "01ad413e-5042-4848-86a5-234d118b5830",
   "metadata": {},
   "outputs": [],
   "source": [
    "import pandas as pd\n",
    "import numpy as np\n",
    "from sklearn.model_selection import train_test_split, GridSearchCV, cross_val_predict\n",
    "from sklearn.linear_model import LinearRegression, Ridge\n",
    "from sklearn.ensemble import RandomForestRegressor\n",
    "from sklearn.pipeline import Pipeline, make_pipeline\n",
    "from sklearn.compose import ColumnTransformer\n",
    "from sklearn.preprocessing import PolynomialFeatures, StandardScaler, MinMaxScaler\n",
    "from sklearn.metrics import mean_absolute_error\n",
    "import matplotlib.pyplot as plt\n",
    "from sklearn.model_selection import GroupKFold, cross_val_score\n",
    "from sklearn.compose import ColumnTransformer\n",
    "from sklearn.tree import DecisionTreeRegressor\n",
    "from sklearn.neural_network import MLPRegressor\n",
    "from sklearn.linear_model import LinearRegression, Ridge, Lasso, ElasticNet\n",
    "from sklearn.tree import DecisionTreeRegressor\n",
    "from sklearn.ensemble import RandomForestRegressor, GradientBoostingRegressor, AdaBoostRegressor\n",
    "from sklearn.svm import SVR\n",
    "from sklearn.neighbors import KNeighborsRegressor\n",
    "from sklearn.kernel_approximation import RBFSampler\n",
    "import sys\n",
    "from IPython.display import display, Markdown\n",
    "import seaborn as sns\n",
    "%load_ext autoreload\n",
    "%autoreload 2\n"
   ]
  },
  {
   "cell_type": "code",
   "execution_count": null,
   "id": "54cc60b5-cda9-422e-bb42-a47225110273",
   "metadata": {},
   "outputs": [],
   "source": []
  },
  {
   "cell_type": "code",
   "execution_count": 2,
   "id": "1208bd6f-8039-4cff-adea-db3db382c423",
   "metadata": {},
   "outputs": [],
   "source": [
    "preprocess = Pipeline([\n",
    "    ('poly',PolynomialFeatures(degree=2)),\n",
    "    ('min_max', MinMaxScaler())\n",
    "])\n",
    "\n",
    "putanje = ['../podaci/df_kanada.csv', '../podaci/df_gradiska_train_inter.csv', '../podaci/df_portugal.csv']\n",
    "training_columns = ['AvgPixelCount', 'NumberOfDaysFromStart', 'PreviousWeight']"
   ]
  },
  {
   "cell_type": "code",
   "execution_count": 3,
   "id": "4a2ecd7e-62bc-440d-9d4a-5b68c5fdaf01",
   "metadata": {},
   "outputs": [],
   "source": [
    "dfs = []\n",
    "Xs = []\n",
    "for putanja in putanje:\n",
    "    dfs.append(pd.read_csv(putanja))\n",
    "    Xs.append(preprocess.fit_transform(dfs[-1][training_columns]))"
   ]
  },
  {
   "cell_type": "code",
   "execution_count": 4,
   "id": "9949cb3a-28b2-41ee-91e6-4cdf93ed5dc1",
   "metadata": {},
   "outputs": [],
   "source": [
    "df = pd.concat(dfs)"
   ]
  },
  {
   "cell_type": "code",
   "execution_count": 38,
   "id": "c8e78142-b64e-4889-b98e-c1a9acf7410c",
   "metadata": {},
   "outputs": [
    {
     "name": "stdout",
     "output_type": "stream",
     "text": [
      "   TurnusId        Date  AvgPixelCount  AvgBboxWidth  AvgBboxHeight  \\\n",
      "0     131.0  2023-06-03     344.461932    184.536740     179.683936   \n",
      "1     131.0  2023-06-04     463.062580    197.471418     191.473504   \n",
      "2     131.0  2023-06-05     430.997551    203.855550     196.402763   \n",
      "3     131.0  2023-06-06     446.578511    211.449437     202.574249   \n",
      "4     131.0  2023-06-07     477.485082    217.930284     211.826148   \n",
      "5     131.0  2023-06-08     530.142223    227.983510     219.693399   \n",
      "6     131.0  2023-06-09     576.723363    235.817352     229.819631   \n",
      "7     131.0  2023-06-10     595.501761    242.945277     237.033505   \n",
      "8     131.0  2023-06-11     692.874699    255.601084     251.259510   \n",
      "9     131.0  2023-06-12     704.145396    261.617489     258.712156   \n",
      "\n",
      "   NumberOfDaysFromStart  PreviousWeight  AverageWeight  HenhouseId  \n",
      "0                      2            50.0           70.0         NaN  \n",
      "1                      3            70.0           70.0         NaN  \n",
      "2                      4            70.0           90.0         NaN  \n",
      "3                      5            90.0          110.0         NaN  \n",
      "4                      6           110.0          110.0         NaN  \n",
      "5                      7           110.0          150.0         NaN  \n",
      "6                      8           150.0          190.0         NaN  \n",
      "7                      9           190.0          210.0         NaN  \n",
      "8                     10           210.0          230.0         NaN  \n",
      "9                     11           230.0          290.0         NaN  \n"
     ]
    }
   ],
   "source": [
    "train = df\n",
    "gradiskatest = pd.read_csv('../podaci/df_gradiska_test_inter.csv')\n",
    "\n",
    "\n",
    "print(train.head(10))\n",
    "\n",
    "X_train = train[training_columns]\n",
    "y_train = train['AverageWeight']\n",
    "X_test = gradiskatest[training_columns]\n",
    "y_test = gradiskatest['AverageWeight']\n",
    "\n",
    "\n",
    "X_train_transformed = preprocess.fit_transform(X_train)\n",
    "X_test_transformed = preprocess.transform(X_test)"
   ]
  },
  {
   "cell_type": "code",
   "execution_count": 40,
   "id": "83e26c8f-f521-401e-a268-bb65c6fd1b06",
   "metadata": {},
   "outputs": [],
   "source": [
    "models_and_params = [\n",
    "    (LinearRegression(), {\n",
    "        'fit_intercept': [True, False]\n",
    "    }),\n",
    "\n",
    "   \n",
    "    (Ridge(), {\n",
    "        'alpha': [0.1, 1.0, 10.0],\n",
    "        'solver': ['auto', 'svd', 'cholesky', 'lsqr'],\n",
    "        'fit_intercept': [True, False]\n",
    "    }),\n",
    "\n",
    "   \n",
    "    (Lasso(), {\n",
    "        'alpha': [0.1, 1.0, 10.0],\n",
    "        'max_iter': [1000, 2000, 3000],\n",
    "        'fit_intercept': [True, False]\n",
    "    }),\n",
    "\n",
    "    \n",
    "    (ElasticNet(), {\n",
    "        'alpha': [0.1, 1.0, 10.0],\n",
    "        'l1_ratio': [0.2, 0.5, 0.8],\n",
    "        'max_iter': [1000, 2000, 3000],\n",
    "        'fit_intercept': [True, False]\n",
    "    }),\n",
    "\n",
    "    \n",
    "    (DecisionTreeRegressor(), {\n",
    "        'criterion': ['squared_error', 'friedman_mse', 'absolute_error', 'poisson'],\n",
    "        'max_depth': [None, 5, 10, 15],\n",
    "        'min_samples_split': [2, 5, 10],\n",
    "        'min_samples_leaf': [1, 5, 10]\n",
    "    }),\n",
    "\n",
    "    \n",
    "    (RandomForestRegressor(), {\n",
    "        'n_estimators': [50, 100, 150],\n",
    "        'max_depth': [None, 10, 20],\n",
    "        'min_samples_split': [2, 5, 10],\n",
    "        'min_samples_leaf': [1, 5, 10]\n",
    "    }),\n",
    "\n",
    "  \n",
    "\n",
    "   \n",
    "    (KNeighborsRegressor(), {\n",
    "        'n_neighbors': [3, 5, 7, 9],\n",
    "        'weights': ['uniform', 'distance'],\n",
    "        'algorithm': ['auto', 'ball_tree', 'kd_tree', 'brute']\n",
    "    }),\n",
    "\n",
    "        \n",
    "    (AdaBoostRegressor(), {\n",
    "        'n_estimators': [50, 100, 200],\n",
    "        'learning_rate': [0.1, 0.05, 0.02],\n",
    "        'loss': ['linear', 'square', 'exponential']\n",
    "    }),\n",
    "\n",
    "    \n",
    "    (GradientBoostingRegressor(), {\n",
    "        'learning_rate': [0.1, 0.05, 0.02],\n",
    "        'n_estimators': [50, 100, 150],\n",
    "        'max_depth': [3, 5, 7, 10],\n",
    "        'min_samples_split': [3, 5, 10],\n",
    "        'min_samples_leaf': [2, 5, 10],\n",
    "    })\n",
    "]\n",
    "\n",
    "\n"
   ]
  },
  {
   "cell_type": "code",
   "execution_count": 42,
   "id": "3c2e6f5b-4ca5-4228-b3ce-08636dbb8a87",
   "metadata": {},
   "outputs": [
    {
     "name": "stdout",
     "output_type": "stream",
     "text": [
      "\n",
      "Trening modela: LinearRegression\n",
      "Najbolji parametri za LinearRegression: {'fit_intercept': True}\n",
      "MAE na test skupu: 23.457954476652485\n",
      "-28.126825705288734\n",
      "\n",
      "Trening modela: Ridge\n",
      "Najbolji parametri za Ridge: {'alpha': 0.1, 'fit_intercept': False, 'solver': 'svd'}\n",
      "MAE na test skupu: 30.523653250539123\n",
      "-45.242999539760305\n",
      "\n",
      "Trening modela: Lasso\n"
     ]
    },
    {
     "name": "stderr",
     "output_type": "stream",
     "text": [
      "C:\\Users\\DN-315\\anaconda3\\Lib\\site-packages\\sklearn\\linear_model\\_coordinate_descent.py:697: ConvergenceWarning: Objective did not converge. You might want to increase the number of iterations, check the scale of the features or consider increasing regularisation. Duality gap: 5.570e+04, tolerance: 2.653e+04\n",
      "  model = cd_fast.enet_coordinate_descent(\n"
     ]
    },
    {
     "name": "stdout",
     "output_type": "stream",
     "text": [
      "Najbolji parametri za Lasso: {'alpha': 0.1, 'fit_intercept': True, 'max_iter': 1000}\n",
      "MAE na test skupu: 27.7818363379842\n",
      "-37.11567192786636\n",
      "\n",
      "Trening modela: ElasticNet\n",
      "Najbolji parametri za ElasticNet: {'alpha': 0.1, 'fit_intercept': False, 'l1_ratio': 0.8, 'max_iter': 1000}\n",
      "MAE na test skupu: 54.245057315220826\n",
      "-69.32471740796566\n",
      "\n",
      "Trening modela: DecisionTreeRegressor\n"
     ]
    },
    {
     "name": "stderr",
     "output_type": "stream",
     "text": [
      "C:\\Users\\DN-315\\anaconda3\\Lib\\site-packages\\numpy\\ma\\core.py:2820: RuntimeWarning: invalid value encountered in cast\n",
      "  _data = np.array(data, dtype=dtype, copy=copy,\n"
     ]
    },
    {
     "name": "stdout",
     "output_type": "stream",
     "text": [
      "Najbolji parametri za DecisionTreeRegressor: {'criterion': 'absolute_error', 'max_depth': 10, 'min_samples_leaf': 1, 'min_samples_split': 10}\n",
      "MAE na test skupu: 22.81433684539415\n",
      "-27.816745212495515\n",
      "\n",
      "Trening modela: RandomForestRegressor\n",
      "Najbolji parametri za RandomForestRegressor: {'max_depth': None, 'min_samples_leaf': 1, 'min_samples_split': 5, 'n_estimators': 100}\n",
      "MAE na test skupu: 16.61871761788285\n",
      "-28.18693737341288\n",
      "\n",
      "Trening modela: KNeighborsRegressor\n",
      "Najbolji parametri za KNeighborsRegressor: {'algorithm': 'brute', 'n_neighbors': 5, 'weights': 'distance'}\n",
      "MAE na test skupu: 23.640738585081028\n",
      "-35.71885405311509\n",
      "\n",
      "Trening modela: AdaBoostRegressor\n",
      "Najbolji parametri za AdaBoostRegressor: {'learning_rate': 0.1, 'loss': 'square', 'n_estimators': 200}\n",
      "MAE na test skupu: 40.585476757406404\n",
      "-45.70495624525854\n",
      "\n",
      "Trening modela: GradientBoostingRegressor\n",
      "Najbolji parametri za GradientBoostingRegressor: {'learning_rate': 0.1, 'max_depth': 5, 'min_samples_leaf': 5, 'min_samples_split': 10, 'n_estimators': 150}\n",
      "MAE na test skupu: 16.779885388305416\n",
      "-28.3976855664158\n"
     ]
    }
   ],
   "source": [
    "for model, parameters in models_and_params:\n",
    "    print(f\"\\nTrening modela: {model.__class__.__name__}\")\n",
    "\n",
    "   \n",
    "    grid_search = GridSearchCV(estimator=model, param_grid=parameters, n_jobs=-1, scoring='neg_mean_absolute_error')\n",
    "    grid_search.fit(X_train_transformed, y_train)\n",
    "\n",
    "    \n",
    "    print(f\"Najbolji parametri za {model.__class__.__name__}: {grid_search.best_params_}\")\n",
    "\n",
    "   \n",
    "    y_pred = grid_search.predict(X_test_transformed)\n",
    "\n",
    "   \n",
    "    mae = mean_absolute_error(y_test, y_pred)\n",
    "    print(f\"MAE na test skupu: {mae}\")\n",
    "    print(grid_search.best_score_)"
   ]
  },
  {
   "cell_type": "code",
   "execution_count": null,
   "id": "7d2a2882-3ca8-4abd-9bbc-f1f468a0f0a3",
   "metadata": {},
   "outputs": [],
   "source": []
  }
 ],
 "metadata": {
  "kernelspec": {
   "display_name": "Python 3 (ipykernel)",
   "language": "python",
   "name": "python3"
  },
  "language_info": {
   "codemirror_mode": {
    "name": "ipython",
    "version": 3
   },
   "file_extension": ".py",
   "mimetype": "text/x-python",
   "name": "python",
   "nbconvert_exporter": "python",
   "pygments_lexer": "ipython3",
   "version": "3.10.11"
  }
 },
 "nbformat": 4,
 "nbformat_minor": 5
}
