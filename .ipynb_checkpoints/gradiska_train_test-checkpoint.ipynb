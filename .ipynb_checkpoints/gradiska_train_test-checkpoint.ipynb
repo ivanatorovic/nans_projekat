{
 "cells": [
  {
   "cell_type": "code",
   "execution_count": 1,
   "id": "7b3cfa49-9a94-4d95-85bd-1d234e14c49d",
   "metadata": {},
   "outputs": [],
   "source": [
    "import pandas as pd\n",
    "import numpy as np\n",
    "from sklearn.model_selection import train_test_split, GridSearchCV, cross_val_predict\n",
    "from sklearn.linear_model import LinearRegression, Ridge\n",
    "from sklearn.ensemble import RandomForestRegressor\n",
    "from sklearn.pipeline import Pipeline, make_pipeline\n",
    "from sklearn.compose import ColumnTransformer\n",
    "from sklearn.preprocessing import PolynomialFeatures, StandardScaler, MinMaxScaler\n",
    "from sklearn.metrics import mean_absolute_error\n",
    "#import matplotlib.pyplot as plt\n",
    "from sklearn.model_selection import GroupKFold, cross_val_score\n",
    "from sklearn.compose import ColumnTransformer\n",
    "from sklearn.tree import DecisionTreeRegressor\n",
    "from sklearn.neural_network import MLPRegressor\n",
    "#import pyodbc\n",
    "from sklearn.linear_model import LinearRegression, Ridge, Lasso, ElasticNet\n",
    "from sklearn.tree import DecisionTreeRegressor\n",
    "from sklearn.ensemble import RandomForestRegressor, GradientBoostingRegressor, AdaBoostRegressor\n",
    "from sklearn.svm import SVR\n",
    "from sklearn.neighbors import KNeighborsRegressor\n",
    "from sklearn.kernel_approximation import RBFSampler\n",
    "import sys\n",
    "#import funkcije as f\n",
    "from IPython.display import display, Markdown\n",
    "#import seaborn as sns\n",
    "from sklearn.impute import SimpleImputer\n",
    "%load_ext autoreload\n",
    "%autoreload 2"
   ]
  },
  {
   "cell_type": "code",
   "execution_count": 2,
   "id": "8ab28525-20b6-468f-8b69-ef2f71e2a93d",
   "metadata": {},
   "outputs": [
    {
     "ename": "FileNotFoundError",
     "evalue": "[Errno 2] No such file or directory: '../podaci/df_gradiska_train_inter.csv'",
     "output_type": "error",
     "traceback": [
      "\u001b[1;31m---------------------------------------------------------------------------\u001b[0m",
      "\u001b[1;31mFileNotFoundError\u001b[0m                         Traceback (most recent call last)",
      "Cell \u001b[1;32mIn[2], line 1\u001b[0m\n\u001b[1;32m----> 1\u001b[0m gradiskatrain \u001b[38;5;241m=\u001b[39m \u001b[43mpd\u001b[49m\u001b[38;5;241;43m.\u001b[39;49m\u001b[43mread_csv\u001b[49m\u001b[43m(\u001b[49m\u001b[38;5;124;43m'\u001b[39;49m\u001b[38;5;124;43m../podaci/df_gradiska_train_inter.csv\u001b[39;49m\u001b[38;5;124;43m'\u001b[39;49m\u001b[43m)\u001b[49m\n\u001b[0;32m      2\u001b[0m gradiskatest \u001b[38;5;241m=\u001b[39m pd\u001b[38;5;241m.\u001b[39mread_csv(\u001b[38;5;124m'\u001b[39m\u001b[38;5;124m../podaci/df_gradiska_test_inter.csv\u001b[39m\u001b[38;5;124m'\u001b[39m)\n\u001b[0;32m      5\u001b[0m \u001b[38;5;66;03m#gradiskatrain = gradiskatrain.dropna()\u001b[39;00m\n\u001b[0;32m      6\u001b[0m \u001b[38;5;66;03m#gradiskatest = gradiskatest.dropna()\u001b[39;00m\n",
      "File \u001b[1;32m~\\AppData\\Local\\Programs\\Python\\Python310\\lib\\site-packages\\pandas\\io\\parsers\\readers.py:1026\u001b[0m, in \u001b[0;36mread_csv\u001b[1;34m(filepath_or_buffer, sep, delimiter, header, names, index_col, usecols, dtype, engine, converters, true_values, false_values, skipinitialspace, skiprows, skipfooter, nrows, na_values, keep_default_na, na_filter, verbose, skip_blank_lines, parse_dates, infer_datetime_format, keep_date_col, date_parser, date_format, dayfirst, cache_dates, iterator, chunksize, compression, thousands, decimal, lineterminator, quotechar, quoting, doublequote, escapechar, comment, encoding, encoding_errors, dialect, on_bad_lines, delim_whitespace, low_memory, memory_map, float_precision, storage_options, dtype_backend)\u001b[0m\n\u001b[0;32m   1013\u001b[0m kwds_defaults \u001b[38;5;241m=\u001b[39m _refine_defaults_read(\n\u001b[0;32m   1014\u001b[0m     dialect,\n\u001b[0;32m   1015\u001b[0m     delimiter,\n\u001b[1;32m   (...)\u001b[0m\n\u001b[0;32m   1022\u001b[0m     dtype_backend\u001b[38;5;241m=\u001b[39mdtype_backend,\n\u001b[0;32m   1023\u001b[0m )\n\u001b[0;32m   1024\u001b[0m kwds\u001b[38;5;241m.\u001b[39mupdate(kwds_defaults)\n\u001b[1;32m-> 1026\u001b[0m \u001b[38;5;28;01mreturn\u001b[39;00m \u001b[43m_read\u001b[49m\u001b[43m(\u001b[49m\u001b[43mfilepath_or_buffer\u001b[49m\u001b[43m,\u001b[49m\u001b[43m \u001b[49m\u001b[43mkwds\u001b[49m\u001b[43m)\u001b[49m\n",
      "File \u001b[1;32m~\\AppData\\Local\\Programs\\Python\\Python310\\lib\\site-packages\\pandas\\io\\parsers\\readers.py:620\u001b[0m, in \u001b[0;36m_read\u001b[1;34m(filepath_or_buffer, kwds)\u001b[0m\n\u001b[0;32m    617\u001b[0m _validate_names(kwds\u001b[38;5;241m.\u001b[39mget(\u001b[38;5;124m\"\u001b[39m\u001b[38;5;124mnames\u001b[39m\u001b[38;5;124m\"\u001b[39m, \u001b[38;5;28;01mNone\u001b[39;00m))\n\u001b[0;32m    619\u001b[0m \u001b[38;5;66;03m# Create the parser.\u001b[39;00m\n\u001b[1;32m--> 620\u001b[0m parser \u001b[38;5;241m=\u001b[39m TextFileReader(filepath_or_buffer, \u001b[38;5;241m*\u001b[39m\u001b[38;5;241m*\u001b[39mkwds)\n\u001b[0;32m    622\u001b[0m \u001b[38;5;28;01mif\u001b[39;00m chunksize \u001b[38;5;129;01mor\u001b[39;00m iterator:\n\u001b[0;32m    623\u001b[0m     \u001b[38;5;28;01mreturn\u001b[39;00m parser\n",
      "File \u001b[1;32m~\\AppData\\Local\\Programs\\Python\\Python310\\lib\\site-packages\\pandas\\io\\parsers\\readers.py:1620\u001b[0m, in \u001b[0;36mTextFileReader.__init__\u001b[1;34m(self, f, engine, **kwds)\u001b[0m\n\u001b[0;32m   1617\u001b[0m     \u001b[38;5;28mself\u001b[39m\u001b[38;5;241m.\u001b[39moptions[\u001b[38;5;124m\"\u001b[39m\u001b[38;5;124mhas_index_names\u001b[39m\u001b[38;5;124m\"\u001b[39m] \u001b[38;5;241m=\u001b[39m kwds[\u001b[38;5;124m\"\u001b[39m\u001b[38;5;124mhas_index_names\u001b[39m\u001b[38;5;124m\"\u001b[39m]\n\u001b[0;32m   1619\u001b[0m \u001b[38;5;28mself\u001b[39m\u001b[38;5;241m.\u001b[39mhandles: IOHandles \u001b[38;5;241m|\u001b[39m \u001b[38;5;28;01mNone\u001b[39;00m \u001b[38;5;241m=\u001b[39m \u001b[38;5;28;01mNone\u001b[39;00m\n\u001b[1;32m-> 1620\u001b[0m \u001b[38;5;28mself\u001b[39m\u001b[38;5;241m.\u001b[39m_engine \u001b[38;5;241m=\u001b[39m \u001b[38;5;28;43mself\u001b[39;49m\u001b[38;5;241;43m.\u001b[39;49m\u001b[43m_make_engine\u001b[49m\u001b[43m(\u001b[49m\u001b[43mf\u001b[49m\u001b[43m,\u001b[49m\u001b[43m \u001b[49m\u001b[38;5;28;43mself\u001b[39;49m\u001b[38;5;241;43m.\u001b[39;49m\u001b[43mengine\u001b[49m\u001b[43m)\u001b[49m\n",
      "File \u001b[1;32m~\\AppData\\Local\\Programs\\Python\\Python310\\lib\\site-packages\\pandas\\io\\parsers\\readers.py:1880\u001b[0m, in \u001b[0;36mTextFileReader._make_engine\u001b[1;34m(self, f, engine)\u001b[0m\n\u001b[0;32m   1878\u001b[0m     \u001b[38;5;28;01mif\u001b[39;00m \u001b[38;5;124m\"\u001b[39m\u001b[38;5;124mb\u001b[39m\u001b[38;5;124m\"\u001b[39m \u001b[38;5;129;01mnot\u001b[39;00m \u001b[38;5;129;01min\u001b[39;00m mode:\n\u001b[0;32m   1879\u001b[0m         mode \u001b[38;5;241m+\u001b[39m\u001b[38;5;241m=\u001b[39m \u001b[38;5;124m\"\u001b[39m\u001b[38;5;124mb\u001b[39m\u001b[38;5;124m\"\u001b[39m\n\u001b[1;32m-> 1880\u001b[0m \u001b[38;5;28mself\u001b[39m\u001b[38;5;241m.\u001b[39mhandles \u001b[38;5;241m=\u001b[39m \u001b[43mget_handle\u001b[49m\u001b[43m(\u001b[49m\n\u001b[0;32m   1881\u001b[0m \u001b[43m    \u001b[49m\u001b[43mf\u001b[49m\u001b[43m,\u001b[49m\n\u001b[0;32m   1882\u001b[0m \u001b[43m    \u001b[49m\u001b[43mmode\u001b[49m\u001b[43m,\u001b[49m\n\u001b[0;32m   1883\u001b[0m \u001b[43m    \u001b[49m\u001b[43mencoding\u001b[49m\u001b[38;5;241;43m=\u001b[39;49m\u001b[38;5;28;43mself\u001b[39;49m\u001b[38;5;241;43m.\u001b[39;49m\u001b[43moptions\u001b[49m\u001b[38;5;241;43m.\u001b[39;49m\u001b[43mget\u001b[49m\u001b[43m(\u001b[49m\u001b[38;5;124;43m\"\u001b[39;49m\u001b[38;5;124;43mencoding\u001b[39;49m\u001b[38;5;124;43m\"\u001b[39;49m\u001b[43m,\u001b[49m\u001b[43m \u001b[49m\u001b[38;5;28;43;01mNone\u001b[39;49;00m\u001b[43m)\u001b[49m\u001b[43m,\u001b[49m\n\u001b[0;32m   1884\u001b[0m \u001b[43m    \u001b[49m\u001b[43mcompression\u001b[49m\u001b[38;5;241;43m=\u001b[39;49m\u001b[38;5;28;43mself\u001b[39;49m\u001b[38;5;241;43m.\u001b[39;49m\u001b[43moptions\u001b[49m\u001b[38;5;241;43m.\u001b[39;49m\u001b[43mget\u001b[49m\u001b[43m(\u001b[49m\u001b[38;5;124;43m\"\u001b[39;49m\u001b[38;5;124;43mcompression\u001b[39;49m\u001b[38;5;124;43m\"\u001b[39;49m\u001b[43m,\u001b[49m\u001b[43m \u001b[49m\u001b[38;5;28;43;01mNone\u001b[39;49;00m\u001b[43m)\u001b[49m\u001b[43m,\u001b[49m\n\u001b[0;32m   1885\u001b[0m \u001b[43m    \u001b[49m\u001b[43mmemory_map\u001b[49m\u001b[38;5;241;43m=\u001b[39;49m\u001b[38;5;28;43mself\u001b[39;49m\u001b[38;5;241;43m.\u001b[39;49m\u001b[43moptions\u001b[49m\u001b[38;5;241;43m.\u001b[39;49m\u001b[43mget\u001b[49m\u001b[43m(\u001b[49m\u001b[38;5;124;43m\"\u001b[39;49m\u001b[38;5;124;43mmemory_map\u001b[39;49m\u001b[38;5;124;43m\"\u001b[39;49m\u001b[43m,\u001b[49m\u001b[43m \u001b[49m\u001b[38;5;28;43;01mFalse\u001b[39;49;00m\u001b[43m)\u001b[49m\u001b[43m,\u001b[49m\n\u001b[0;32m   1886\u001b[0m \u001b[43m    \u001b[49m\u001b[43mis_text\u001b[49m\u001b[38;5;241;43m=\u001b[39;49m\u001b[43mis_text\u001b[49m\u001b[43m,\u001b[49m\n\u001b[0;32m   1887\u001b[0m \u001b[43m    \u001b[49m\u001b[43merrors\u001b[49m\u001b[38;5;241;43m=\u001b[39;49m\u001b[38;5;28;43mself\u001b[39;49m\u001b[38;5;241;43m.\u001b[39;49m\u001b[43moptions\u001b[49m\u001b[38;5;241;43m.\u001b[39;49m\u001b[43mget\u001b[49m\u001b[43m(\u001b[49m\u001b[38;5;124;43m\"\u001b[39;49m\u001b[38;5;124;43mencoding_errors\u001b[39;49m\u001b[38;5;124;43m\"\u001b[39;49m\u001b[43m,\u001b[49m\u001b[43m \u001b[49m\u001b[38;5;124;43m\"\u001b[39;49m\u001b[38;5;124;43mstrict\u001b[39;49m\u001b[38;5;124;43m\"\u001b[39;49m\u001b[43m)\u001b[49m\u001b[43m,\u001b[49m\n\u001b[0;32m   1888\u001b[0m \u001b[43m    \u001b[49m\u001b[43mstorage_options\u001b[49m\u001b[38;5;241;43m=\u001b[39;49m\u001b[38;5;28;43mself\u001b[39;49m\u001b[38;5;241;43m.\u001b[39;49m\u001b[43moptions\u001b[49m\u001b[38;5;241;43m.\u001b[39;49m\u001b[43mget\u001b[49m\u001b[43m(\u001b[49m\u001b[38;5;124;43m\"\u001b[39;49m\u001b[38;5;124;43mstorage_options\u001b[39;49m\u001b[38;5;124;43m\"\u001b[39;49m\u001b[43m,\u001b[49m\u001b[43m \u001b[49m\u001b[38;5;28;43;01mNone\u001b[39;49;00m\u001b[43m)\u001b[49m\u001b[43m,\u001b[49m\n\u001b[0;32m   1889\u001b[0m \u001b[43m\u001b[49m\u001b[43m)\u001b[49m\n\u001b[0;32m   1890\u001b[0m \u001b[38;5;28;01massert\u001b[39;00m \u001b[38;5;28mself\u001b[39m\u001b[38;5;241m.\u001b[39mhandles \u001b[38;5;129;01mis\u001b[39;00m \u001b[38;5;129;01mnot\u001b[39;00m \u001b[38;5;28;01mNone\u001b[39;00m\n\u001b[0;32m   1891\u001b[0m f \u001b[38;5;241m=\u001b[39m \u001b[38;5;28mself\u001b[39m\u001b[38;5;241m.\u001b[39mhandles\u001b[38;5;241m.\u001b[39mhandle\n",
      "File \u001b[1;32m~\\AppData\\Local\\Programs\\Python\\Python310\\lib\\site-packages\\pandas\\io\\common.py:873\u001b[0m, in \u001b[0;36mget_handle\u001b[1;34m(path_or_buf, mode, encoding, compression, memory_map, is_text, errors, storage_options)\u001b[0m\n\u001b[0;32m    868\u001b[0m \u001b[38;5;28;01melif\u001b[39;00m \u001b[38;5;28misinstance\u001b[39m(handle, \u001b[38;5;28mstr\u001b[39m):\n\u001b[0;32m    869\u001b[0m     \u001b[38;5;66;03m# Check whether the filename is to be opened in binary mode.\u001b[39;00m\n\u001b[0;32m    870\u001b[0m     \u001b[38;5;66;03m# Binary mode does not support 'encoding' and 'newline'.\u001b[39;00m\n\u001b[0;32m    871\u001b[0m     \u001b[38;5;28;01mif\u001b[39;00m ioargs\u001b[38;5;241m.\u001b[39mencoding \u001b[38;5;129;01mand\u001b[39;00m \u001b[38;5;124m\"\u001b[39m\u001b[38;5;124mb\u001b[39m\u001b[38;5;124m\"\u001b[39m \u001b[38;5;129;01mnot\u001b[39;00m \u001b[38;5;129;01min\u001b[39;00m ioargs\u001b[38;5;241m.\u001b[39mmode:\n\u001b[0;32m    872\u001b[0m         \u001b[38;5;66;03m# Encoding\u001b[39;00m\n\u001b[1;32m--> 873\u001b[0m         handle \u001b[38;5;241m=\u001b[39m \u001b[38;5;28;43mopen\u001b[39;49m\u001b[43m(\u001b[49m\n\u001b[0;32m    874\u001b[0m \u001b[43m            \u001b[49m\u001b[43mhandle\u001b[49m\u001b[43m,\u001b[49m\n\u001b[0;32m    875\u001b[0m \u001b[43m            \u001b[49m\u001b[43mioargs\u001b[49m\u001b[38;5;241;43m.\u001b[39;49m\u001b[43mmode\u001b[49m\u001b[43m,\u001b[49m\n\u001b[0;32m    876\u001b[0m \u001b[43m            \u001b[49m\u001b[43mencoding\u001b[49m\u001b[38;5;241;43m=\u001b[39;49m\u001b[43mioargs\u001b[49m\u001b[38;5;241;43m.\u001b[39;49m\u001b[43mencoding\u001b[49m\u001b[43m,\u001b[49m\n\u001b[0;32m    877\u001b[0m \u001b[43m            \u001b[49m\u001b[43merrors\u001b[49m\u001b[38;5;241;43m=\u001b[39;49m\u001b[43merrors\u001b[49m\u001b[43m,\u001b[49m\n\u001b[0;32m    878\u001b[0m \u001b[43m            \u001b[49m\u001b[43mnewline\u001b[49m\u001b[38;5;241;43m=\u001b[39;49m\u001b[38;5;124;43m\"\u001b[39;49m\u001b[38;5;124;43m\"\u001b[39;49m\u001b[43m,\u001b[49m\n\u001b[0;32m    879\u001b[0m \u001b[43m        \u001b[49m\u001b[43m)\u001b[49m\n\u001b[0;32m    880\u001b[0m     \u001b[38;5;28;01melse\u001b[39;00m:\n\u001b[0;32m    881\u001b[0m         \u001b[38;5;66;03m# Binary mode\u001b[39;00m\n\u001b[0;32m    882\u001b[0m         handle \u001b[38;5;241m=\u001b[39m \u001b[38;5;28mopen\u001b[39m(handle, ioargs\u001b[38;5;241m.\u001b[39mmode)\n",
      "\u001b[1;31mFileNotFoundError\u001b[0m: [Errno 2] No such file or directory: '../podaci/df_gradiska_train_inter.csv'"
     ]
    }
   ],
   "source": [
    "gradiskatrain = pd.read_csv('../podaci/df_gradiska_train_inter.csv')\n",
    "gradiskatest = pd.read_csv('../podaci/df_gradiska_test_inter.csv')\n",
    "\n",
    "\n",
    "#gradiskatrain = gradiskatrain.dropna()\n",
    "#gradiskatest = gradiskatest.dropna()\n",
    "\n",
    "print(gradiskatrain.head(10))\n",
    "\n",
    "\n",
    "preprocess = Pipeline([\n",
    " \n",
    "    ('poly', PolynomialFeatures(degree=2)),\n",
    "    ('min_max', MinMaxScaler())\n",
    "])\n",
    "\n",
    "\n",
    "training_columns = ['AvgPixelCount','NumberOfDaysFromStart', 'PreviousWeight']\n",
    "\n",
    "\n",
    "X_train = gradiskatrain[training_columns]\n",
    "y_train = gradiskatrain['AverageWeight']\n",
    "X_test = gradiskatest[training_columns]\n",
    "y_test = gradiskatest['AverageWeight']\n",
    "\n",
    "\n",
    "X_train_transformed = preprocess.fit_transform(X_train)\n",
    "X_test_transformed = preprocess.transform(X_test)"
   ]
  },
  {
   "cell_type": "code",
   "execution_count": 117,
   "id": "babe2b32-d182-48f5-832d-96278fac5302",
   "metadata": {},
   "outputs": [],
   "source": [
    "import mlflow\n",
    "from mlflow.models import infer_signature"
   ]
  },
  {
   "cell_type": "code",
   "execution_count": 119,
   "id": "81d9daa7-9678-447f-a594-5d0cbcf4a6d7",
   "metadata": {},
   "outputs": [
    {
     "data": {
      "text/plain": [
       "<Popen: returncode: None args: ['mlflow', 'ui', '--host', '0.0.0.0', '--port...>"
      ]
     },
     "execution_count": 119,
     "metadata": {},
     "output_type": "execute_result"
    }
   ],
   "source": [
    "import subprocess\n",
    "\n",
    "# Pokrenite MLflow UI u pozadini\n",
    "subprocess.Popen(['mlflow', 'ui', '--host', '0.0.0.0', '--port', '5000'])"
   ]
  },
  {
   "cell_type": "code",
   "execution_count": 121,
   "id": "dc2f1638-326f-4a40-ae81-e2cf0b2df090",
   "metadata": {},
   "outputs": [],
   "source": [
    "models_and_params = [\n",
    "    (LinearRegression(), {\n",
    "        'fit_intercept': [True, False]\n",
    "    }),\n",
    "\n",
    "   \n",
    "    (Ridge(), {\n",
    "        'alpha': [0.1, 1.0, 10.0],\n",
    "        'solver': ['auto', 'svd', 'cholesky', 'lsqr'],\n",
    "        'fit_intercept': [True, False]\n",
    "    }),\n",
    "\n",
    "   \n",
    "    (Lasso(), {\n",
    "        'alpha': [0.1, 1.0, 10.0],\n",
    "        'max_iter': [1000, 2000, 3000],\n",
    "        'fit_intercept': [True, False]\n",
    "    }),\n",
    "\n",
    "    \n",
    "    (ElasticNet(), {\n",
    "        'alpha': [0.1, 1.0, 10.0],\n",
    "        'l1_ratio': [0.2, 0.5, 0.8],\n",
    "        'max_iter': [1000, 2000, 3000],\n",
    "        'fit_intercept': [True, False]\n",
    "    }),\n",
    "\n",
    "    \n",
    "    (DecisionTreeRegressor(), {\n",
    "        'criterion': ['mse', 'friedman_mse', 'mae'],\n",
    "        'max_depth': [None, 5, 10, 15],\n",
    "        'min_samples_split': [2, 5, 10],\n",
    "        'min_samples_leaf': [1, 5, 10]\n",
    "    }),\n",
    "\n",
    "    \n",
    "    (RandomForestRegressor(), {\n",
    "        'n_estimators': [50, 100, 150],\n",
    "        'max_depth': [None, 10, 20],\n",
    "        'min_samples_split': [2, 5, 10],\n",
    "        'min_samples_leaf': [1, 5, 10]\n",
    "    }),\n",
    "\n",
    "  \n",
    "\n",
    "   \n",
    "    (KNeighborsRegressor(), {\n",
    "        'n_neighbors': [3, 5, 7, 9],\n",
    "        'weights': ['uniform', 'distance'],\n",
    "        'algorithm': ['auto', 'ball_tree', 'kd_tree', 'brute']\n",
    "    }),\n",
    "\n",
    "        \n",
    "    (AdaBoostRegressor(), {\n",
    "        'n_estimators': [50, 100, 200],\n",
    "        'learning_rate': [0.1, 0.05, 0.02],\n",
    "        'loss': ['linear', 'square', 'exponential']\n",
    "    }),\n",
    "\n",
    "    \n",
    "    (GradientBoostingRegressor(), {\n",
    "        'learning_rate': [0.1, 0.05, 0.02],\n",
    "        'n_estimators': [50, 100, 150],\n",
    "        'max_depth': [3, 5, 7, 10],\n",
    "        'min_samples_split': [3, 5, 10],\n",
    "        'min_samples_leaf': [2, 5, 10],\n",
    "    })\n",
    "]\n",
    "\n",
    "\n"
   ]
  },
  {
   "cell_type": "code",
   "execution_count": 127,
   "id": "7341942a-d705-4126-b11a-3626bcb0ce57",
   "metadata": {},
   "outputs": [
    {
     "name": "stdout",
     "output_type": "stream",
     "text": [
      "\n",
      "Trening modela: LinearRegression\n",
      "Najbolji parametri za LinearRegression: {'fit_intercept': False}\n",
      "MAE na test skupu: 18.32745399838686\n",
      "-24.818916507177814\n",
      "\n",
      "Trening modela: Ridge\n",
      "Najbolji parametri za Ridge: {'alpha': 0.1, 'fit_intercept': True, 'solver': 'svd'}\n",
      "MAE na test skupu: 45.12722555455071\n",
      "-62.133383221333226\n",
      "\n",
      "Trening modela: Lasso\n",
      "Najbolji parametri za Lasso: {'alpha': 0.1, 'fit_intercept': False, 'max_iter': 2000}\n",
      "MAE na test skupu: 25.299516656062313\n",
      "-47.45418287700941\n",
      "\n",
      "Trening modela: ElasticNet\n",
      "Najbolji parametri za ElasticNet: {'alpha': 0.1, 'fit_intercept': False, 'l1_ratio': 0.8, 'max_iter': 1000}\n",
      "MAE na test skupu: 58.17389284788314\n",
      "-78.62940260382058\n",
      "\n",
      "Trening modela: DecisionTreeRegressor\n",
      "Najbolji parametri za DecisionTreeRegressor: {'criterion': 'friedman_mse', 'max_depth': 10, 'min_samples_leaf': 1, 'min_samples_split': 2}\n",
      "MAE na test skupu: 25.631347641065403\n",
      "-51.675823177220444\n",
      "\n",
      "Trening modela: RandomForestRegressor\n",
      "Najbolji parametri za RandomForestRegressor: {'max_depth': 20, 'min_samples_leaf': 1, 'min_samples_split': 5, 'n_estimators': 50}\n",
      "MAE na test skupu: 27.652228742614547\n",
      "-52.77438128093812\n",
      "\n",
      "Trening modela: KNeighborsRegressor\n",
      "Najbolji parametri za KNeighborsRegressor: {'algorithm': 'brute', 'n_neighbors': 3, 'weights': 'distance'}\n",
      "MAE na test skupu: 31.56692368882399\n",
      "-52.051151927287755\n",
      "\n",
      "Trening modela: AdaBoostRegressor\n",
      "Najbolji parametri za AdaBoostRegressor: {'learning_rate': 0.1, 'loss': 'square', 'n_estimators': 200}\n",
      "MAE na test skupu: 42.06954618098507\n",
      "-59.19057272624072\n",
      "\n",
      "Trening modela: GradientBoostingRegressor\n",
      "Najbolji parametri za GradientBoostingRegressor: {'learning_rate': 0.1, 'max_depth': 5, 'min_samples_leaf': 2, 'min_samples_split': 3, 'n_estimators': 150}\n",
      "MAE na test skupu: 22.66156798060212\n",
      "-52.24238450424501\n"
     ]
    }
   ],
   "source": [
    "for model, parameters in models_and_params:\n",
    "    print(f\"\\nTrening modela: {model.__class__.__name__}\")\n",
    "\n",
    "   \n",
    "    grid_search = GridSearchCV(estimator=model, param_grid=parameters, n_jobs=-1, scoring='neg_mean_absolute_error')\n",
    "    grid_search.fit(X_train_transformed, y_train)\n",
    "\n",
    "    \n",
    "    print(f\"Najbolji parametri za {model.__class__.__name__}: {grid_search.best_params_}\")\n",
    "\n",
    "   \n",
    "    y_pred = grid_search.predict(X_test_transformed)\n",
    "\n",
    "   \n",
    "    mae = mean_absolute_error(y_test, y_pred)\n",
    "    print(f\"MAE na test skupu: {mae}\")\n",
    "    print(grid_search.best_score_)"
   ]
  },
  {
   "cell_type": "code",
   "execution_count": 105,
   "id": "731fdbc2-b325-4f57-8853-c09efbdd4926",
   "metadata": {},
   "outputs": [
    {
     "name": "stdout",
     "output_type": "stream",
     "text": [
      "\n",
      "Trening modela: LinearRegression\n",
      "Najbolji parametri za LinearRegression: {'fit_intercept': False}\n",
      "MAE na test skupu: 18.32745399838686\n",
      "Metrics {'Mean absolute error': 18.32745399838686}\n"
     ]
    },
    {
     "data": {
      "application/vnd.jupyter.widget-view+json": {
       "model_id": "810e9cea788a47308acb230910b4f287",
       "version_major": 2,
       "version_minor": 0
      },
      "text/plain": [
       "Downloading artifacts:   0%|          | 0/7 [00:00<?, ?it/s]"
      ]
     },
     "metadata": {},
     "output_type": "display_data"
    },
    {
     "name": "stderr",
     "output_type": "stream",
     "text": [
      "Registered model 'LinearRegression_gradiska_stand_3_min_max' already exists. Creating a new version of this model...\n",
      "Created version '3' of model 'LinearRegression_gradiska_stand_3_min_max'.\n"
     ]
    }
   ],
   "source": [
    "exp = mlflow.set_experiment(experiment_name=\"gradiska_train_test\")\n",
    "for model, parameters in models_and_params[0:1]:\n",
    "\n",
    "    model_name = type(model).__name__\n",
    "    print(f\"\\nTrening modela: {model.__class__.__name__}\")\n",
    "\n",
    "   \n",
    "    grid_search = GridSearchCV(estimator=model, param_grid=parameters, n_jobs=-1, scoring='neg_mean_absolute_error')\n",
    "    grid_search.fit(X_train_transformed, y_train)\n",
    "\n",
    "    \n",
    "    print(f\"Najbolji parametri za {model.__class__.__name__}: {grid_search.best_params_}\")\n",
    "\n",
    "   \n",
    "    y_pred = grid_search.predict(X_test_transformed)\n",
    "\n",
    "   \n",
    "    mae = mean_absolute_error(y_test, y_pred)\n",
    "    print(f\"MAE na test skupu: {mae}\")\n",
    "\n",
    "\n",
    "    metrics = {\n",
    "       \n",
    "        'Mean absolute error': mae,\n",
    "        \n",
    "    }\n",
    "    print('Metrics', metrics)\n",
    "\n",
    "\n",
    "\n",
    "    with mlflow.start_run(experiment_id=exp.experiment_id):\n",
    "        # Log the hyperparameters\n",
    "        mlflow.log_param('model_type', model_name)\n",
    "        mlflow.log_param('columns_used', \", \".join(training_columns))\n",
    "        mlflow.log_params(grid_search.best_params_)\n",
    "        mlflow.log_metrics(metrics)\n",
    "        mlflow.log_param(\"preprocessing\", [step[0] for step in preprocess.steps])\n",
    "\n",
    "        tags = {\n",
    "            \"task\": \"Pilici\",\n",
    "            \"model\":model_name,\n",
    "            \"preprocessing\":[step[0] for step in preprocess.steps],\n",
    "            \"data_used\": \"Gradiska\"\n",
    "        }\n",
    "        # Set a tag that we can use to remind ourselves what this run was for\n",
    "        mlflow.set_tags(tags)\n",
    "\n",
    "        # Infer the model signature\n",
    "        signature = infer_signature(X_train_transformed, grid_search.predict(X_train_transformed))\n",
    "\n",
    "        # Log the model\n",
    "        model_info = mlflow.sklearn.log_model(\n",
    "            sk_model=grid_search.best_estimator_,\n",
    "            artifact_path=\"flow_modeli\",\n",
    "            signature=signature,\n",
    "            input_example=X_train_transformed,\n",
    "            registered_model_name=f\"{type(model).__name__}_gradiska_stand_3_min_max\",\n",
    "        )"
   ]
  },
  {
   "cell_type": "code",
   "execution_count": null,
   "id": "da2495c5-aac3-4eb4-9370-685757adc5f5",
   "metadata": {},
   "outputs": [],
   "source": []
  },
  {
   "cell_type": "code",
   "execution_count": null,
   "id": "f3464348-695e-4bf1-9a17-6b2606fd74f2",
   "metadata": {},
   "outputs": [],
   "source": [
    "\n"
   ]
  },
  {
   "cell_type": "code",
   "execution_count": null,
   "id": "e7895113-f3b6-43da-aceb-3135cef6e043",
   "metadata": {
    "scrolled": true
   },
   "outputs": [],
   "source": [
    "\n"
   ]
  },
  {
   "cell_type": "code",
   "execution_count": null,
   "id": "306dd555-ee99-4390-bc95-9a7aa2322053",
   "metadata": {},
   "outputs": [],
   "source": []
  }
 ],
 "metadata": {
  "kernelspec": {
   "display_name": "Python 3 (ipykernel)",
   "language": "python",
   "name": "python3"
  },
  "language_info": {
   "codemirror_mode": {
    "name": "ipython",
    "version": 3
   },
   "file_extension": ".py",
   "mimetype": "text/x-python",
   "name": "python",
   "nbconvert_exporter": "python",
   "pygments_lexer": "ipython3",
   "version": "3.10.11"
  }
 },
 "nbformat": 4,
 "nbformat_minor": 5
}
